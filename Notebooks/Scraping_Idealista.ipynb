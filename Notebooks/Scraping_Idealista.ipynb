{
 "cells": [
  {
   "cell_type": "code",
   "execution_count": 1,
   "id": "b0869491-1f74-4fc2-9b51-c3b1a574b757",
   "metadata": {},
   "outputs": [],
   "source": [
    "from bs4 import BeautifulSoup\n",
    "import requests\n",
    "import csv\n",
    "import random"
   ]
  },
  {
   "cell_type": "code",
   "execution_count": 2,
   "id": "e5930b14-8080-4a16-a1f6-cb5f28016b56",
   "metadata": {},
   "outputs": [
    {
     "name": "stdout",
     "output_type": "stream",
     "text": [
      "Response successful\n"
     ]
    }
   ],
   "source": [
    "request_headers = {\n",
    "    \"user-agent\": \"Mozilla/5.0 (Windows NT 10.0; Win64; x64) AppleWebKit/537.36 (KHTML, like Gecko) Chrome/96.0.4664.110 Safari/537.36\",\n",
    "    \"accept\": \"text/html,application/xhtml+xml,application/xml;q=0.9,image/webp,image/apng,*/*;q=0.8\",\n",
    "    \"accept-language\": \"en-US;en;q=0.9\",\n",
    "    \"accept-encoding\": \"gzip, deflate, br\",\n",
    "}\n",
    "\n",
    "url = 'https://www.idealista.com/alquiler-viviendas/barcelona-barcelona/'\n",
    "\n",
    "response_main = requests.get(url, headers=request_headers, timeout=5)\n",
    "if response_main.status_code == 200:\n",
    "    print('Response successful') \n",
    "else:\n",
    "    print(response_main.status_code)"
   ]
  },
  {
   "cell_type": "code",
   "execution_count": 3,
   "id": "244ee1dd-52fb-4a62-8ec0-62cf1bd17739",
   "metadata": {},
   "outputs": [],
   "source": [
    "soup = BeautifulSoup(response_main.content, \"html.parser\")"
   ]
  },
  {
   "cell_type": "code",
   "execution_count": 7,
   "id": "e701e9e8-3831-449b-a2b7-ab3c3bfdbc63",
   "metadata": {},
   "outputs": [
    {
     "name": "stdout",
     "output_type": "stream",
     "text": [
      "1800\n"
     ]
    }
   ],
   "source": [
    "property_links = []\n",
    "\n",
    "for i in range (1,61):\n",
    "    url = f'https://www.idealista.com/alquiler-viviendas/barcelona-barcelona/pagina-{i}.htm'\n",
    "    response_main = requests.get(url, headers=request_headers, timeout=5)\n",
    "    soup = BeautifulSoup(response_main.content, \"html.parser\")\n",
    "    links = soup.find_all(class_=\"item-link\")\n",
    "    for link in links:\n",
    "        href = link.get(\"href\")\n",
    "        if href:\n",
    "            full_link = \"https://www.idealista.com/\" + href\n",
    "            property_links.append(full_link)\n",
    "print(len(property_links))"
   ]
  },
  {
   "cell_type": "code",
   "execution_count": null,
   "id": "71559096-b000-4c12-bf08-21f0b1eb3b55",
   "metadata": {},
   "outputs": [],
   "source": [
    "property_details = []\n",
    "\n",
    "with open(\"property_data_idealista.csv\", \"w\", newline=\"\", encoding=\"utf-8\") as file:\n",
    "    writer = csv.writer(file)\n",
    "    writer.writerow([\"Title\", \"Price_EUR_per_month\", \"Neighbourhood\", \"Person\", \"Number_of_rooms\", \"Square_meters\", \"Exterior_interior\", \"Floor\", \"Lift\", \"Garage\"])\n",
    "    for property in property_links:\n",
    "        response = requests.get(property, headers=request_headers)\n",
    "        property_data = BeautifulSoup(response.content, \"html.parser\")\n",
    "        for apartment in property_data:\n",
    "            try:\n",
    "                title = property_data.find(class_=\"main-info__title-main\").get_text()\n",
    "            except AttributeError:\n",
    "                title = \"\"\n",
    "            try:\n",
    "                price = float(property_data.find(class_=\"info-data-price\").get_text()[:-5].replace(\".\", \"\").replace(\",\", \".\"))\n",
    "            except AttributeError:\n",
    "                 price = \"\"\n",
    "            try:\n",
    "                neighbourhood = property_data.find(class_=\"main-info__title-minor\").get_text()\n",
    "            except AttributeError:\n",
    "                neighbourhood = \"\"\n",
    "            try:\n",
    "                person = property_data.find(\"div\", class_=\"professional-name\").get_text().split()[0].strip()\n",
    "            except AttributeError:\n",
    "                person = \"\"\n",
    "            features = property_data.find(class_=\"info-features\")\n",
    "            features_text = property_data.find(class_=\"info-features\").get_text()\n",
    "            if \"hab.\" in features_text:\n",
    "                nr_of_rooms = float(next((span.get_text(strip=True).replace(\" hab.\", \"\") for span in features if \"hab\" in span.get_text()), \"\"))\n",
    "            else:\n",
    "                nr_of_rooms = \"\"\n",
    "            if \"m²\" in features_text:\n",
    "                square_meters = float(next((span.get_text(strip=True).replace(\" m²\", \"\") for span in features if \"m²\" in span.get_text()), \"\"))\n",
    "            else:\n",
    "                square_meters = \"\"\n",
    "            if \"exterior\" in features_text:\n",
    "                interior_exterior = \"exterior\"\n",
    "            elif \"interior\" in features_text:\n",
    "                interior_exterior = \"interior\"\n",
    "            else:\n",
    "                interior_exterior = \"\"\n",
    "            if \"con ascensor\" in features_text:\n",
    "                lift = float(1)\n",
    "            elif \"sin ascensor\" in features_text:\n",
    "                lift = float(0)\n",
    "            else:\n",
    "                lift = \"\"\n",
    "            if \"Planta\" in features_text:\n",
    "                floor_details = (next((span.get_text(strip=True) for span in features if \"Planta\" in span.get_text()), \"\"))\n",
    "                floor_nr = float(floor_details.split()[1].strip(\"ª\"))\n",
    "            elif \"Bajo\" in features_text:\n",
    "                floor_nr = \"Bajo\"\n",
    "            elif \"Entreplanta\" in features_text:\n",
    "                floor_nr = \"Entreplanta\"\n",
    "            else:\n",
    "                floor_nr = \"\"\n",
    "            if \"Garaje incluido\" in features_text:\n",
    "                garage = \"Garage included\"\n",
    "            elif \"Garaje opc.\" in features_text:\n",
    "                garage = \"Garage optional\"\n",
    "            else:\n",
    "                garage = \"\"\n",
    "        property_details.append([title, price, neighbourhood, person, nr_of_rooms, square_meters, interior_exterior, floor_nr, lift, garage])\n",
    "\n",
    "    for apartment in property_details:\n",
    "        writer.writerow(apartment)\n",
    "file.close()\n",
    "print(f'Number of rows scraped: {len(property_details)}')"
   ]
  },
  {
   "cell_type": "code",
   "execution_count": null,
   "id": "795b240e-18ad-404e-90c4-4b7b5f023cd7",
   "metadata": {},
   "outputs": [],
   "source": []
  }
 ],
 "metadata": {
  "kernelspec": {
   "display_name": "Python 3.13",
   "language": "python",
   "name": "python3.13"
  },
  "language_info": {
   "codemirror_mode": {
    "name": "ipython",
    "version": 3
   },
   "file_extension": ".py",
   "mimetype": "text/x-python",
   "name": "python",
   "nbconvert_exporter": "python",
   "pygments_lexer": "ipython3",
   "version": "3.13.1"
  }
 },
 "nbformat": 4,
 "nbformat_minor": 5
}
