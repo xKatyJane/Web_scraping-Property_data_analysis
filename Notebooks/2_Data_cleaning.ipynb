{
 "cells": [
  {
   "cell_type": "markdown",
   "id": "bd0390b3-1f21-4e4e-9a59-69b9b8e201ac",
   "metadata": {},
   "source": [
    "### Loading the dataset"
   ]
  },
  {
   "cell_type": "code",
   "execution_count": 21,
   "id": "dfaca159-f0d8-493c-939d-d245dd2de1ba",
   "metadata": {},
   "outputs": [],
   "source": [
    "import pandas as pd\n",
    "import numpy as np\n",
    "import matplotlib.pyplot as plt\n",
    "import seaborn as sns\n",
    "import sqlite3\n",
    "from matplotlib import rcParams"
   ]
  },
  {
   "cell_type": "code",
   "execution_count": 22,
   "id": "75755770-b019-42f0-86ad-cd56425c65bf",
   "metadata": {},
   "outputs": [],
   "source": [
    "df = pd.read_csv(\"https://raw.githubusercontent.com/xKatyJane/Web_scraping-Property_data_analysis/refs/heads/main/Data/Property_data_idealista_20-02-2025.csv\")"
   ]
  },
  {
   "cell_type": "markdown",
   "id": "4662cee7-0977-4218-a16c-891386b126e8",
   "metadata": {},
   "source": [
    "### Checking and cleaning the data"
   ]
  },
  {
   "cell_type": "code",
   "execution_count": 23,
   "id": "d223e501-a72c-4e39-9792-acb0389f9b92",
   "metadata": {},
   "outputs": [
    {
     "data": {
      "text/plain": [
       "(4579, 10)"
      ]
     },
     "execution_count": 23,
     "metadata": {},
     "output_type": "execute_result"
    }
   ],
   "source": [
    "df.shape"
   ]
  },
  {
   "cell_type": "code",
   "execution_count": 24,
   "id": "ded24bc9-e0fd-40a1-8d97-2ba12eebc97d",
   "metadata": {},
   "outputs": [
    {
     "name": "stdout",
     "output_type": "stream",
     "text": [
      "<class 'pandas.core.frame.DataFrame'>\n",
      "RangeIndex: 4579 entries, 0 to 4578\n",
      "Data columns (total 10 columns):\n",
      " #   Column               Non-Null Count  Dtype  \n",
      "---  ------               --------------  -----  \n",
      " 0   Title                4579 non-null   object \n",
      " 1   Price_EUR_per_month  4579 non-null   float64\n",
      " 2   Neighbourhood        4579 non-null   object \n",
      " 3   Person               4579 non-null   object \n",
      " 4   Number_of_rooms      4337 non-null   float64\n",
      " 5   Square_meters        4579 non-null   float64\n",
      " 6   Exterior_interior    4189 non-null   object \n",
      " 7   Floor                4092 non-null   object \n",
      " 8   Lift                 4405 non-null   float64\n",
      " 9   Garage               628 non-null    object \n",
      "dtypes: float64(4), object(6)\n",
      "memory usage: 357.9+ KB\n"
     ]
    }
   ],
   "source": [
    "df.info()"
   ]
  },
  {
   "cell_type": "code",
   "execution_count": 25,
   "id": "aec8952e-53b5-43ed-b9a2-28ab68a8e748",
   "metadata": {},
   "outputs": [
    {
     "data": {
      "text/plain": [
       "Title                   object\n",
       "Price_EUR_per_month    float64\n",
       "Neighbourhood           object\n",
       "Person                  object\n",
       "Number_of_rooms        float64\n",
       "Square_meters          float64\n",
       "Exterior_interior       object\n",
       "Floor                   object\n",
       "Lift                   float64\n",
       "Garage                  object\n",
       "dtype: object"
      ]
     },
     "execution_count": 25,
     "metadata": {},
     "output_type": "execute_result"
    }
   ],
   "source": [
    "df.dtypes"
   ]
  },
  {
   "cell_type": "code",
   "execution_count": 26,
   "id": "8528f59a-0c9d-4076-8c43-7ffe7f56c5f9",
   "metadata": {},
   "outputs": [
    {
     "data": {
      "text/plain": [
       "Title                     0\n",
       "Price_EUR_per_month       0\n",
       "Neighbourhood             0\n",
       "Person                    0\n",
       "Number_of_rooms         242\n",
       "Square_meters             0\n",
       "Exterior_interior       390\n",
       "Floor                   487\n",
       "Lift                    174\n",
       "Garage                 3951\n",
       "dtype: int64"
      ]
     },
     "execution_count": 26,
     "metadata": {},
     "output_type": "execute_result"
    }
   ],
   "source": [
    "df.isnull().sum()"
   ]
  },
  {
   "cell_type": "markdown",
   "id": "8ee86e4e-ac57-41ee-8ac9-a64880cf1417",
   "metadata": {},
   "source": [
    "### Handling the missing values"
   ]
  },
  {
   "cell_type": "code",
   "execution_count": 27,
   "id": "d7e59ccb-b0b5-49f7-845c-64e25f7e70f8",
   "metadata": {},
   "outputs": [],
   "source": [
    "columns_to_replace_NaNs = ['Floor', 'Exterior_interior', 'Lift', 'Number_of_rooms']\n",
    "df[columns_to_replace_NaNs] = df[columns_to_replace_NaNs].fillna('unknown')\n",
    "df['Garage'] = df['Garage'].fillna('No garage')"
   ]
  },
  {
   "cell_type": "code",
   "execution_count": 28,
   "id": "aa4dc6b2-4e57-4cd3-9534-b8b394861d36",
   "metadata": {},
   "outputs": [
    {
     "data": {
      "text/plain": [
       "Title                  0\n",
       "Price_EUR_per_month    0\n",
       "Neighbourhood          0\n",
       "Person                 0\n",
       "Number_of_rooms        0\n",
       "Square_meters          0\n",
       "Exterior_interior      0\n",
       "Floor                  0\n",
       "Lift                   0\n",
       "Garage                 0\n",
       "dtype: int64"
      ]
     },
     "execution_count": 28,
     "metadata": {},
     "output_type": "execute_result"
    }
   ],
   "source": [
    "df.isnull().sum()"
   ]
  },
  {
   "cell_type": "markdown",
   "id": "833caea1-e770-444f-b8a6-5fe0d367792b",
   "metadata": {},
   "source": [
    "#### All the NaNs have been filled"
   ]
  },
  {
   "cell_type": "code",
   "execution_count": 29,
   "id": "01bc3907-6fbf-4a40-83bb-42fbc5771caf",
   "metadata": {},
   "outputs": [
    {
     "data": {
      "text/html": [
       "<div>\n",
       "<style scoped>\n",
       "    .dataframe tbody tr th:only-of-type {\n",
       "        vertical-align: middle;\n",
       "    }\n",
       "\n",
       "    .dataframe tbody tr th {\n",
       "        vertical-align: top;\n",
       "    }\n",
       "\n",
       "    .dataframe thead th {\n",
       "        text-align: right;\n",
       "    }\n",
       "</style>\n",
       "<table border=\"1\" class=\"dataframe\">\n",
       "  <thead>\n",
       "    <tr style=\"text-align: right;\">\n",
       "      <th></th>\n",
       "      <th>Title</th>\n",
       "      <th>Price_EUR_per_month</th>\n",
       "      <th>Neighbourhood</th>\n",
       "      <th>Person</th>\n",
       "      <th>Number_of_rooms</th>\n",
       "      <th>Square_meters</th>\n",
       "      <th>Exterior_interior</th>\n",
       "      <th>Floor</th>\n",
       "      <th>Lift</th>\n",
       "      <th>Garage</th>\n",
       "    </tr>\n",
       "  </thead>\n",
       "  <tbody>\n",
       "    <tr>\n",
       "      <th>0</th>\n",
       "      <td>Alquiler de Piso en calle de Morales</td>\n",
       "      <td>1400.0</td>\n",
       "      <td>Les Corts, Barcelona</td>\n",
       "      <td>Profesional</td>\n",
       "      <td>1.0</td>\n",
       "      <td>50.0</td>\n",
       "      <td>exterior</td>\n",
       "      <td>Bajo</td>\n",
       "      <td>0.0</td>\n",
       "      <td>No garage</td>\n",
       "    </tr>\n",
       "    <tr>\n",
       "      <th>1</th>\n",
       "      <td>Alquiler de Piso en calle de Loreto</td>\n",
       "      <td>3000.0</td>\n",
       "      <td>Les Corts, Barcelona</td>\n",
       "      <td>Profesional</td>\n",
       "      <td>2.0</td>\n",
       "      <td>254.0</td>\n",
       "      <td>exterior</td>\n",
       "      <td>7.0</td>\n",
       "      <td>1.0</td>\n",
       "      <td>No garage</td>\n",
       "    </tr>\n",
       "    <tr>\n",
       "      <th>2</th>\n",
       "      <td>Alquiler de Piso en calle de la Riera Blanca</td>\n",
       "      <td>1500.0</td>\n",
       "      <td>La Maternitat i Sant Ramon, Barcelona</td>\n",
       "      <td>Profesional</td>\n",
       "      <td>2.0</td>\n",
       "      <td>71.0</td>\n",
       "      <td>exterior</td>\n",
       "      <td>4.0</td>\n",
       "      <td>1.0</td>\n",
       "      <td>No garage</td>\n",
       "    </tr>\n",
       "    <tr>\n",
       "      <th>3</th>\n",
       "      <td>Alquiler de Piso en Passatge d'Albert Pinyol</td>\n",
       "      <td>1250.0</td>\n",
       "      <td>Les Corts, Barcelona</td>\n",
       "      <td>Profesional</td>\n",
       "      <td>1.0</td>\n",
       "      <td>45.0</td>\n",
       "      <td>exterior</td>\n",
       "      <td>1.0</td>\n",
       "      <td>1.0</td>\n",
       "      <td>No garage</td>\n",
       "    </tr>\n",
       "    <tr>\n",
       "      <th>4</th>\n",
       "      <td>Alquiler de Ático en calle de l'Alfambra</td>\n",
       "      <td>1795.0</td>\n",
       "      <td>Pedralbes, Barcelona</td>\n",
       "      <td>Profesional</td>\n",
       "      <td>2.0</td>\n",
       "      <td>70.0</td>\n",
       "      <td>exterior</td>\n",
       "      <td>6.0</td>\n",
       "      <td>1.0</td>\n",
       "      <td>No garage</td>\n",
       "    </tr>\n",
       "  </tbody>\n",
       "</table>\n",
       "</div>"
      ],
      "text/plain": [
       "                                          Title  Price_EUR_per_month  \\\n",
       "0          Alquiler de Piso en calle de Morales               1400.0   \n",
       "1           Alquiler de Piso en calle de Loreto               3000.0   \n",
       "2  Alquiler de Piso en calle de la Riera Blanca               1500.0   \n",
       "3  Alquiler de Piso en Passatge d'Albert Pinyol               1250.0   \n",
       "4      Alquiler de Ático en calle de l'Alfambra               1795.0   \n",
       "\n",
       "                           Neighbourhood       Person Number_of_rooms  \\\n",
       "0                   Les Corts, Barcelona  Profesional             1.0   \n",
       "1                   Les Corts, Barcelona  Profesional             2.0   \n",
       "2  La Maternitat i Sant Ramon, Barcelona  Profesional             2.0   \n",
       "3                   Les Corts, Barcelona  Profesional             1.0   \n",
       "4                   Pedralbes, Barcelona  Profesional             2.0   \n",
       "\n",
       "   Square_meters Exterior_interior Floor Lift     Garage  \n",
       "0           50.0          exterior  Bajo  0.0  No garage  \n",
       "1          254.0          exterior   7.0  1.0  No garage  \n",
       "2           71.0          exterior   4.0  1.0  No garage  \n",
       "3           45.0          exterior   1.0  1.0  No garage  \n",
       "4           70.0          exterior   6.0  1.0  No garage  "
      ]
     },
     "execution_count": 29,
     "metadata": {},
     "output_type": "execute_result"
    }
   ],
   "source": [
    "df.head()"
   ]
  },
  {
   "cell_type": "markdown",
   "id": "8445b527-5035-4d49-94d3-25c69f6a72a4",
   "metadata": {},
   "source": [
    "### Checking the values distribution"
   ]
  },
  {
   "cell_type": "code",
   "execution_count": 30,
   "id": "6a4f20ab-b78d-44bf-a58e-ead255b2ca8c",
   "metadata": {},
   "outputs": [
    {
     "data": {
      "text/plain": [
       "Number_of_rooms\n",
       "2.0        1773\n",
       "1.0        1070\n",
       "3.0        1003\n",
       "4.0         333\n",
       "unknown     242\n",
       "5.0         105\n",
       "6.0          30\n",
       "7.0          14\n",
       "9.0           5\n",
       "10.0          4\n",
       "Name: count, dtype: int64"
      ]
     },
     "execution_count": 30,
     "metadata": {},
     "output_type": "execute_result"
    }
   ],
   "source": [
    "df.Number_of_rooms.value_counts()"
   ]
  },
  {
   "cell_type": "code",
   "execution_count": 31,
   "id": "0263694f-e990-4dae-b385-96cc9e67ccbf",
   "metadata": {},
   "outputs": [
    {
     "data": {
      "text/plain": [
       "Square_meters\n",
       "70.0     190\n",
       "60.0     169\n",
       "80.0     166\n",
       "90.0     155\n",
       "65.0     155\n",
       "        ... \n",
       "421.0      1\n",
       "611.0      1\n",
       "382.0      1\n",
       "195.0      1\n",
       "147.0      1\n",
       "Name: count, Length: 303, dtype: int64"
      ]
     },
     "execution_count": 31,
     "metadata": {},
     "output_type": "execute_result"
    }
   ],
   "source": [
    "df.Square_meters.value_counts()"
   ]
  },
  {
   "cell_type": "code",
   "execution_count": 32,
   "id": "2dbdf28d-921a-4202-b4f2-f255a0f88bd1",
   "metadata": {},
   "outputs": [
    {
     "data": {
      "text/plain": [
       "Person\n",
       "Profesional    4280\n",
       "Particular      299\n",
       "Name: count, dtype: int64"
      ]
     },
     "execution_count": 32,
     "metadata": {},
     "output_type": "execute_result"
    }
   ],
   "source": [
    "df.Person.value_counts()"
   ]
  },
  {
   "cell_type": "code",
   "execution_count": 33,
   "id": "0f7c9125-ba17-4226-a718-0405874eda90",
   "metadata": {},
   "outputs": [
    {
     "data": {
      "text/plain": [
       "Exterior_interior\n",
       "exterior    3849\n",
       "unknown      390\n",
       "interior     340\n",
       "Name: count, dtype: int64"
      ]
     },
     "execution_count": 33,
     "metadata": {},
     "output_type": "execute_result"
    }
   ],
   "source": [
    "df.Exterior_interior.value_counts()"
   ]
  },
  {
   "cell_type": "code",
   "execution_count": 34,
   "id": "7cc02cbf-e648-40b7-af3b-a2549e7e6def",
   "metadata": {},
   "outputs": [
    {
     "data": {
      "text/plain": [
       "Garage\n",
       "No garage          3951\n",
       "Garage included     445\n",
       "Garage optional     183\n",
       "Name: count, dtype: int64"
      ]
     },
     "execution_count": 34,
     "metadata": {},
     "output_type": "execute_result"
    }
   ],
   "source": [
    "df.Garage.value_counts()"
   ]
  },
  {
   "cell_type": "code",
   "execution_count": 35,
   "id": "24ff0b47-bbc5-4679-8ff4-78144186e44f",
   "metadata": {},
   "outputs": [],
   "source": [
    "#Splitting the neighbourhood into \"Neighbourhood\" and \"City\" columns\n",
    "df[['Neighbourhood', 'City']] = df['Neighbourhood'].str.split(',', expand=True)"
   ]
  },
  {
   "cell_type": "code",
   "execution_count": 36,
   "id": "641aad49-eb0b-4cb1-82fc-4ab3015d704f",
   "metadata": {},
   "outputs": [
    {
     "data": {
      "text/plain": [
       "Neighbourhood\n",
       "La Dreta de l'Eixample                    633\n",
       "Sant Pere - Santa Caterina i la Ribera    351\n",
       "El Raval                                  328\n",
       "El Gòtic                                  286\n",
       "Eixample                                  222\n",
       "                                         ... \n",
       "La Vall d'Hebron - La Clota                 3\n",
       "Horta                                       3\n",
       "Porta                                       3\n",
       "La Font d'En Fargues                        2\n",
       "Les Roquetes                                2\n",
       "Name: count, Length: 67, dtype: int64"
      ]
     },
     "execution_count": 36,
     "metadata": {},
     "output_type": "execute_result"
    }
   ],
   "source": [
    "df.Neighbourhood.value_counts()"
   ]
  },
  {
   "cell_type": "code",
   "execution_count": 37,
   "id": "ef2c30aa-cdc4-4db1-8575-4832ce76ec51",
   "metadata": {},
   "outputs": [
    {
     "data": {
      "text/plain": [
       "City\n",
       " Barcelona    4579\n",
       "Name: count, dtype: int64"
      ]
     },
     "execution_count": 37,
     "metadata": {},
     "output_type": "execute_result"
    }
   ],
   "source": [
    "df.City.value_counts()"
   ]
  },
  {
   "cell_type": "code",
   "execution_count": 38,
   "id": "b7170848-a310-429f-94ef-c612e174a40d",
   "metadata": {},
   "outputs": [
    {
     "data": {
      "text/html": [
       "<div>\n",
       "<style scoped>\n",
       "    .dataframe tbody tr th:only-of-type {\n",
       "        vertical-align: middle;\n",
       "    }\n",
       "\n",
       "    .dataframe tbody tr th {\n",
       "        vertical-align: top;\n",
       "    }\n",
       "\n",
       "    .dataframe thead th {\n",
       "        text-align: right;\n",
       "    }\n",
       "</style>\n",
       "<table border=\"1\" class=\"dataframe\">\n",
       "  <thead>\n",
       "    <tr style=\"text-align: right;\">\n",
       "      <th></th>\n",
       "      <th>Title</th>\n",
       "      <th>Price_EUR_per_month</th>\n",
       "      <th>Neighbourhood</th>\n",
       "      <th>Person</th>\n",
       "      <th>Number_of_rooms</th>\n",
       "      <th>Square_meters</th>\n",
       "      <th>Exterior_interior</th>\n",
       "      <th>Floor</th>\n",
       "      <th>Lift</th>\n",
       "      <th>Garage</th>\n",
       "      <th>City</th>\n",
       "    </tr>\n",
       "  </thead>\n",
       "  <tbody>\n",
       "    <tr>\n",
       "      <th>0</th>\n",
       "      <td>Alquiler de Piso en calle de Morales</td>\n",
       "      <td>1400.0</td>\n",
       "      <td>Les Corts</td>\n",
       "      <td>Profesional</td>\n",
       "      <td>1.0</td>\n",
       "      <td>50.0</td>\n",
       "      <td>exterior</td>\n",
       "      <td>Bajo</td>\n",
       "      <td>0.0</td>\n",
       "      <td>No garage</td>\n",
       "      <td>Barcelona</td>\n",
       "    </tr>\n",
       "    <tr>\n",
       "      <th>1</th>\n",
       "      <td>Alquiler de Piso en calle de Loreto</td>\n",
       "      <td>3000.0</td>\n",
       "      <td>Les Corts</td>\n",
       "      <td>Profesional</td>\n",
       "      <td>2.0</td>\n",
       "      <td>254.0</td>\n",
       "      <td>exterior</td>\n",
       "      <td>7.0</td>\n",
       "      <td>1.0</td>\n",
       "      <td>No garage</td>\n",
       "      <td>Barcelona</td>\n",
       "    </tr>\n",
       "    <tr>\n",
       "      <th>2</th>\n",
       "      <td>Alquiler de Piso en calle de la Riera Blanca</td>\n",
       "      <td>1500.0</td>\n",
       "      <td>La Maternitat i Sant Ramon</td>\n",
       "      <td>Profesional</td>\n",
       "      <td>2.0</td>\n",
       "      <td>71.0</td>\n",
       "      <td>exterior</td>\n",
       "      <td>4.0</td>\n",
       "      <td>1.0</td>\n",
       "      <td>No garage</td>\n",
       "      <td>Barcelona</td>\n",
       "    </tr>\n",
       "    <tr>\n",
       "      <th>3</th>\n",
       "      <td>Alquiler de Piso en Passatge d'Albert Pinyol</td>\n",
       "      <td>1250.0</td>\n",
       "      <td>Les Corts</td>\n",
       "      <td>Profesional</td>\n",
       "      <td>1.0</td>\n",
       "      <td>45.0</td>\n",
       "      <td>exterior</td>\n",
       "      <td>1.0</td>\n",
       "      <td>1.0</td>\n",
       "      <td>No garage</td>\n",
       "      <td>Barcelona</td>\n",
       "    </tr>\n",
       "    <tr>\n",
       "      <th>4</th>\n",
       "      <td>Alquiler de Ático en calle de l'Alfambra</td>\n",
       "      <td>1795.0</td>\n",
       "      <td>Pedralbes</td>\n",
       "      <td>Profesional</td>\n",
       "      <td>2.0</td>\n",
       "      <td>70.0</td>\n",
       "      <td>exterior</td>\n",
       "      <td>6.0</td>\n",
       "      <td>1.0</td>\n",
       "      <td>No garage</td>\n",
       "      <td>Barcelona</td>\n",
       "    </tr>\n",
       "  </tbody>\n",
       "</table>\n",
       "</div>"
      ],
      "text/plain": [
       "                                          Title  Price_EUR_per_month  \\\n",
       "0          Alquiler de Piso en calle de Morales               1400.0   \n",
       "1           Alquiler de Piso en calle de Loreto               3000.0   \n",
       "2  Alquiler de Piso en calle de la Riera Blanca               1500.0   \n",
       "3  Alquiler de Piso en Passatge d'Albert Pinyol               1250.0   \n",
       "4      Alquiler de Ático en calle de l'Alfambra               1795.0   \n",
       "\n",
       "                Neighbourhood       Person Number_of_rooms  Square_meters  \\\n",
       "0                   Les Corts  Profesional             1.0           50.0   \n",
       "1                   Les Corts  Profesional             2.0          254.0   \n",
       "2  La Maternitat i Sant Ramon  Profesional             2.0           71.0   \n",
       "3                   Les Corts  Profesional             1.0           45.0   \n",
       "4                   Pedralbes  Profesional             2.0           70.0   \n",
       "\n",
       "  Exterior_interior Floor Lift     Garage        City  \n",
       "0          exterior  Bajo  0.0  No garage   Barcelona  \n",
       "1          exterior   7.0  1.0  No garage   Barcelona  \n",
       "2          exterior   4.0  1.0  No garage   Barcelona  \n",
       "3          exterior   1.0  1.0  No garage   Barcelona  \n",
       "4          exterior   6.0  1.0  No garage   Barcelona  "
      ]
     },
     "execution_count": 38,
     "metadata": {},
     "output_type": "execute_result"
    }
   ],
   "source": [
    "df.head()"
   ]
  },
  {
   "cell_type": "code",
   "execution_count": 39,
   "id": "c3ac0e11-39c9-4031-a89c-bdd60b4b5dad",
   "metadata": {},
   "outputs": [
    {
     "data": {
      "text/html": [
       "<div>\n",
       "<style scoped>\n",
       "    .dataframe tbody tr th:only-of-type {\n",
       "        vertical-align: middle;\n",
       "    }\n",
       "\n",
       "    .dataframe tbody tr th {\n",
       "        vertical-align: top;\n",
       "    }\n",
       "\n",
       "    .dataframe thead th {\n",
       "        text-align: right;\n",
       "    }\n",
       "</style>\n",
       "<table border=\"1\" class=\"dataframe\">\n",
       "  <thead>\n",
       "    <tr style=\"text-align: right;\">\n",
       "      <th></th>\n",
       "      <th>Title</th>\n",
       "      <th>Price_EUR_per_month</th>\n",
       "      <th>Neighbourhood</th>\n",
       "      <th>Person</th>\n",
       "      <th>Number_of_rooms</th>\n",
       "      <th>Square_meters</th>\n",
       "      <th>Exterior_interior</th>\n",
       "      <th>Floor</th>\n",
       "      <th>Lift</th>\n",
       "      <th>Garage</th>\n",
       "      <th>City</th>\n",
       "    </tr>\n",
       "  </thead>\n",
       "  <tbody>\n",
       "    <tr>\n",
       "      <th>0</th>\n",
       "      <td>Alquiler de Piso en calle de Morales</td>\n",
       "      <td>1400.0</td>\n",
       "      <td>Les Corts</td>\n",
       "      <td>Profesional</td>\n",
       "      <td>1.0</td>\n",
       "      <td>50.0</td>\n",
       "      <td>exterior</td>\n",
       "      <td>Bajo</td>\n",
       "      <td>0.0</td>\n",
       "      <td>No garage</td>\n",
       "      <td>Barcelona</td>\n",
       "    </tr>\n",
       "    <tr>\n",
       "      <th>1</th>\n",
       "      <td>Alquiler de Piso en calle de Loreto</td>\n",
       "      <td>3000.0</td>\n",
       "      <td>Les Corts</td>\n",
       "      <td>Profesional</td>\n",
       "      <td>2.0</td>\n",
       "      <td>254.0</td>\n",
       "      <td>exterior</td>\n",
       "      <td>7.0</td>\n",
       "      <td>1.0</td>\n",
       "      <td>No garage</td>\n",
       "      <td>Barcelona</td>\n",
       "    </tr>\n",
       "    <tr>\n",
       "      <th>2</th>\n",
       "      <td>Alquiler de Piso en calle de la Riera Blanca</td>\n",
       "      <td>1500.0</td>\n",
       "      <td>La Maternitat i Sant Ramon</td>\n",
       "      <td>Profesional</td>\n",
       "      <td>2.0</td>\n",
       "      <td>71.0</td>\n",
       "      <td>exterior</td>\n",
       "      <td>4.0</td>\n",
       "      <td>1.0</td>\n",
       "      <td>No garage</td>\n",
       "      <td>Barcelona</td>\n",
       "    </tr>\n",
       "    <tr>\n",
       "      <th>3</th>\n",
       "      <td>Alquiler de Piso en Passatge d'Albert Pinyol</td>\n",
       "      <td>1250.0</td>\n",
       "      <td>Les Corts</td>\n",
       "      <td>Profesional</td>\n",
       "      <td>1.0</td>\n",
       "      <td>45.0</td>\n",
       "      <td>exterior</td>\n",
       "      <td>1.0</td>\n",
       "      <td>1.0</td>\n",
       "      <td>No garage</td>\n",
       "      <td>Barcelona</td>\n",
       "    </tr>\n",
       "    <tr>\n",
       "      <th>4</th>\n",
       "      <td>Alquiler de Ático en calle de l'Alfambra</td>\n",
       "      <td>1795.0</td>\n",
       "      <td>Pedralbes</td>\n",
       "      <td>Profesional</td>\n",
       "      <td>2.0</td>\n",
       "      <td>70.0</td>\n",
       "      <td>exterior</td>\n",
       "      <td>6.0</td>\n",
       "      <td>1.0</td>\n",
       "      <td>No garage</td>\n",
       "      <td>Barcelona</td>\n",
       "    </tr>\n",
       "  </tbody>\n",
       "</table>\n",
       "</div>"
      ],
      "text/plain": [
       "                                          Title  Price_EUR_per_month  \\\n",
       "0          Alquiler de Piso en calle de Morales               1400.0   \n",
       "1           Alquiler de Piso en calle de Loreto               3000.0   \n",
       "2  Alquiler de Piso en calle de la Riera Blanca               1500.0   \n",
       "3  Alquiler de Piso en Passatge d'Albert Pinyol               1250.0   \n",
       "4      Alquiler de Ático en calle de l'Alfambra               1795.0   \n",
       "\n",
       "                Neighbourhood       Person Number_of_rooms  Square_meters  \\\n",
       "0                   Les Corts  Profesional             1.0           50.0   \n",
       "1                   Les Corts  Profesional             2.0          254.0   \n",
       "2  La Maternitat i Sant Ramon  Profesional             2.0           71.0   \n",
       "3                   Les Corts  Profesional             1.0           45.0   \n",
       "4                   Pedralbes  Profesional             2.0           70.0   \n",
       "\n",
       "  Exterior_interior Floor Lift     Garage        City  \n",
       "0          exterior  Bajo  0.0  No garage   Barcelona  \n",
       "1          exterior   7.0  1.0  No garage   Barcelona  \n",
       "2          exterior   4.0  1.0  No garage   Barcelona  \n",
       "3          exterior   1.0  1.0  No garage   Barcelona  \n",
       "4          exterior   6.0  1.0  No garage   Barcelona  "
      ]
     },
     "execution_count": 39,
     "metadata": {},
     "output_type": "execute_result"
    }
   ],
   "source": [
    "df.head()"
   ]
  },
  {
   "cell_type": "code",
   "execution_count": 40,
   "id": "4e52b126-91ee-4237-9358-f39f524ffc95",
   "metadata": {},
   "outputs": [],
   "source": [
    "df.to_csv('Property_data_cleaned.csv', index=False)"
   ]
  }
 ],
 "metadata": {
  "kernelspec": {
   "display_name": "Python 3 (ipykernel)",
   "language": "python",
   "name": "python3"
  },
  "language_info": {
   "codemirror_mode": {
    "name": "ipython",
    "version": 3
   },
   "file_extension": ".py",
   "mimetype": "text/x-python",
   "name": "python",
   "nbconvert_exporter": "python",
   "pygments_lexer": "ipython3",
   "version": "3.12.0"
  }
 },
 "nbformat": 4,
 "nbformat_minor": 5
}
